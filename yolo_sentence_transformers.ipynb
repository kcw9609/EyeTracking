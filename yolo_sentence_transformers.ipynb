{
  "nbformat": 4,
  "nbformat_minor": 0,
  "metadata": {
    "colab": {
      "provenance": [],
      "gpuType": "T4",
      "authorship_tag": "ABX9TyN0rYWNehdlg16RlxKr8XwS",
      "include_colab_link": true
    },
    "kernelspec": {
      "name": "python3",
      "display_name": "Python 3"
    },
    "language_info": {
      "name": "python"
    },
    "accelerator": "GPU"
  },
  "cells": [
    {
      "cell_type": "markdown",
      "metadata": {
        "id": "view-in-github",
        "colab_type": "text"
      },
      "source": [
        "<a href=\"https://colab.research.google.com/github/kcw9609/EyeTracking/blob/main/yolo_sentence_transformers.ipynb\" target=\"_parent\"><img src=\"https://colab.research.google.com/assets/colab-badge.svg\" alt=\"Open In Colab\"/></a>"
      ]
    },
    {
      "cell_type": "code",
      "source": [
        "!pip install -q ultralytics\n"
      ],
      "metadata": {
        "colab": {
          "base_uri": "https://localhost:8080/"
        },
        "id": "eTw_Fsu3ojv-",
        "outputId": "f93a4ce4-3e4f-456a-ae81-2c5561fc0c90"
      },
      "execution_count": null,
      "outputs": [
        {
          "output_type": "stream",
          "name": "stdout",
          "text": [
            "\u001b[33mWARNING: Ignoring invalid distribution ~vidia-cublas-cu12 (/usr/local/lib/python3.11/dist-packages)\u001b[0m\u001b[33m\n",
            "\u001b[0m\u001b[33mWARNING: Ignoring invalid distribution ~vidia-cublas-cu12 (/usr/local/lib/python3.11/dist-packages)\u001b[0m\u001b[33m\n",
            "\u001b[0m\u001b[33mWARNING: Ignoring invalid distribution ~vidia-cublas-cu12 (/usr/local/lib/python3.11/dist-packages)\u001b[0m\u001b[33m\n",
            "\u001b[0m\u001b[33m    WARNING: Ignoring invalid distribution ~vidia-cublas-cu12 (/usr/local/lib/python3.11/dist-packages)\u001b[0m\u001b[33m\n",
            "\u001b[0m"
          ]
        }
      ]
    },
    {
      "cell_type": "code",
      "execution_count": null,
      "metadata": {
        "id": "Vgs-dV0CnApW"
      },
      "outputs": [],
      "source": [
        "# ==============================\n",
        "# 파일 업로드 (이미지 선택)\n",
        "# ==============================\n",
        "from google.colab import files\n",
        "uploaded = files.upload()\n",
        "\n",
        "import os\n",
        "image_path = next(iter(uploaded))  # 업로드된 첫 번째 파일 이름\n",
        "\n",
        "# ==============================\n",
        "# 라이브러리 로딩\n",
        "# ==============================\n",
        "from ultralytics import YOLO\n",
        "from sentence_transformers import SentenceTransformer, util\n",
        "import torch\n",
        "\n",
        "# YOLO 객체 감지\n",
        "yolo_model = YOLO(\"yolov8n.pt\")  # Colab에서도 잘 작동\n",
        "results = yolo_model(image_path)[0]\n",
        "labels = list(set([yolo_model.names[int(cls)] for cls in results.boxes.cls]))\n",
        "\n",
        "print(\"감지된 객체 라벨들:\", labels)\n",
        "\n",
        "# 예시 설명 (문장 단위)\n",
        "description_sentences = [\n",
        "    \"푸른 들판에서 강아지가 놀고 있다.\",\n",
        "    \"하늘은 맑고 구름이 없다.\",\n",
        "    \"나무 그늘 아래 사람이 앉아 있다.\",\n",
        "]\n",
        "\n",
        "# Sentence-BERT 로딩\n",
        "sbert = SentenceTransformer(\"snunlp/KR-SBERT-V40K-klueNLI-augSTS\")\n",
        "sentence_embeddings = sbert.encode(description_sentences, convert_to_tensor=True)\n",
        "\n",
        "# 객체 라벨별로 의미 유사 문장 추출\n",
        "for label in labels:\n",
        "    query_embedding = sbert.encode(label, convert_to_tensor=True)\n",
        "    cos_scores = util.cos_sim(query_embedding, sentence_embeddings)[0]\n",
        "    top_indices = torch.topk(cos_scores, k=2).indices.tolist()\n",
        "\n",
        "    print(f\"\\n🔍 '{label}' 관련 문장:\")\n",
        "    for i in top_indices:\n",
        "        print(\"-\", description_sentences[i])\n"
      ]
    }
  ]
}